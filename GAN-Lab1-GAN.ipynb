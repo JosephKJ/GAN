{
 "cells": [
  {
   "cell_type": "markdown",
   "metadata": {},
   "source": [
    "## Lab: Generative Adversarial Networks\n",
    "\n",
    "In this lab, we will explore several architectures of generative adversarial networks. There are many different versions of GANs existing today.\n",
    "\n",
    "The break-up for today's lab is as follows:\n",
    "- Vanilla GAN (DCGAN)\n",
    "- Conditional GAN (CGAN)\n",
    "- Auxiliary Classifier GAN (AC-GAN)\n",
    "- Bi-directional GAN (BiGAN)\n",
    "\n",
    "These codes are modified from\n",
    "https://github.com/wiseodd/generative-models/tree/master/GAN"
   ]
  },
  {
   "cell_type": "markdown",
   "metadata": {},
   "source": [
    "### Module 1: Vanilla GAN (using DCGANs)\n",
    "\n",
    "Let us first look at a normal generative adversarial network.\n",
    "\n",
    "First, let us define some constants and import some libraries. We also define a custom weights initialization function.\n",
    "\n",
    "(Read later about Xavier initialization: http://andyljones.tumblr.com/post/110998971763/an-explanation-of-xavier-initialization) \n",
    "\n",
    "(Link to paper: https://arxiv.org/abs/1406.2661)"
   ]
  },
  {
   "cell_type": "code",
   "execution_count": 1,
   "metadata": {
    "collapsed": true
   },
   "outputs": [],
   "source": [
    "import torch\n",
    "import torch.nn.functional as nn\n",
    "import torch.autograd as autograd\n",
    "import torch.optim as optim\n",
    "import numpy as np\n",
    "import matplotlib.pyplot as plt\n",
    "import matplotlib.gridspec as gridspec\n",
    "import os\n",
    "from torch.autograd import Variable\n",
    "\n",
    "%matplotlib inline\n",
    "\n",
    "mb_size = 64\n",
    "Z_dim = 100\n",
    "X_dim = 784\n",
    "y_dim = 10\n",
    "h_dim = 128\n",
    "c = 0\n",
    "lr = 1e-3\n",
    "\n",
    "def xavier_init(size):\n",
    "    in_dim = size[0]\n",
    "    xavier_stddev = 1. / np.sqrt(in_dim / 2.)\n",
    "    vec = torch.randn(*size) * xavier_stddev\n",
    "    if setcuda:\n",
    "        vec = vec.cuda()\n",
    "    return Variable(vec, requires_grad=True)\n",
    "\n",
    "setcuda = True"
   ]
  },
  {
   "cell_type": "code",
   "execution_count": null,
   "metadata": {
    "collapsed": true
   },
   "outputs": [],
   "source": []
  }
 ],
 "metadata": {
  "anaconda-cloud": {},
  "kernelspec": {
   "display_name": "Python [default]",
   "language": "python",
   "name": "python2"
  },
  "language_info": {
   "codemirror_mode": {
    "name": "ipython",
    "version": 2
   },
   "file_extension": ".py",
   "mimetype": "text/x-python",
   "name": "python",
   "nbconvert_exporter": "python",
   "pygments_lexer": "ipython2",
   "version": "2.7.12"
  }
 },
 "nbformat": 4,
 "nbformat_minor": 2
}
